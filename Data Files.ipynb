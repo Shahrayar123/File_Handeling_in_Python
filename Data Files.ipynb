{
 "cells": [
  {
   "cell_type": "markdown",
   "metadata": {},
   "source": [
    "## Data Files "
   ]
  },
  {
   "cell_type": "markdown",
   "metadata": {},
   "source": [
    "write mode"
   ]
  },
  {
   "cell_type": "code",
   "execution_count": 2,
   "metadata": {},
   "outputs": [],
   "source": [
    "with open(\"abc.txt\",\"w\") as w:            \n",
    "    w.write(\"Hello World!\")              # Hello World! is written in the file abc.txt"
   ]
  },
  {
   "cell_type": "code",
   "execution_count": 3,
   "metadata": {},
   "outputs": [],
   "source": [
    "msg=\"Hello Python\"\n",
    "\n",
    "with open('abc.txt','w') as w:          # All the previous data overwrite in write mode\n",
    "    w.write(msg)"
   ]
  },
  {
   "cell_type": "code",
   "execution_count": 9,
   "metadata": {},
   "outputs": [],
   "source": [
    "name=\"\\nMy name is Muhammad Shahrayar\"\n",
    "\n",
    "with open(\"abc.txt\",'a') as a:              # Data is entered in appaend mode\n",
    "    a.write(name)\n"
   ]
  },
  {
   "cell_type": "code",
   "execution_count": null,
   "metadata": {},
   "outputs": [],
   "source": []
  }
 ],
 "metadata": {
  "kernelspec": {
   "display_name": "Python 3",
   "language": "python",
   "name": "python3"
  },
  "language_info": {
   "codemirror_mode": {
    "name": "ipython",
    "version": 3
   },
   "file_extension": ".py",
   "mimetype": "text/x-python",
   "name": "python",
   "nbconvert_exporter": "python",
   "pygments_lexer": "ipython3",
   "version": "3.7.3"
  }
 },
 "nbformat": 4,
 "nbformat_minor": 2
}
