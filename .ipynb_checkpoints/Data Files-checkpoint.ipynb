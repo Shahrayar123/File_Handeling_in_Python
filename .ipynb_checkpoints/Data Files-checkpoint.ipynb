{
 "cells": [
  {
   "cell_type": "markdown",
   "metadata": {},
   "source": [
    "## Data Files "
   ]
  },
  {
   "cell_type": "markdown",
   "metadata": {},
   "source": [
    "**write mode**"
   ]
  },
  {
   "cell_type": "code",
   "execution_count": 2,
   "metadata": {},
   "outputs": [],
   "source": [
    "with open(\"abc.txt\",\"w\") as w:            \n",
    "    w.write(\"Hello World!\")              # Hello World! is written in the file abc.txt"
   ]
  },
  {
   "cell_type": "code",
   "execution_count": 3,
   "metadata": {},
   "outputs": [],
   "source": [
    "msg=\"Hello Python\"\n",
    "\n",
    "with open('abc.txt','w') as w:          # All the previous data overwrite in write mode\n",
    "    w.write(msg)"
   ]
  },
  {
   "cell_type": "code",
   "execution_count": 9,
   "metadata": {},
   "outputs": [],
   "source": [
    "name=\"\\nMy name is Muhammad Shahrayar\"\n",
    "\n",
    "with open(\"abc.txt\",'a') as a:              # Data is entered in appaend mode\n",
    "    a.write(name)\n"
   ]
  },
  {
   "cell_type": "code",
   "execution_count": 2,
   "metadata": {},
   "outputs": [],
   "source": [
    "# We can also write into the file with following method\n",
    "\n",
    "file=open(\"xyz.txt\",'w')\n",
    "file.write(\"This content is written in xyz.txt file\")\n",
    "file.close()\n",
    "    "
   ]
  },
  {
   "cell_type": "code",
   "execution_count": 3,
   "metadata": {},
   "outputs": [],
   "source": [
    "content=\"This content is written in file.dat file\"\n",
    "with open (\"file.dat\",\"w\") as f:\n",
    "    f.write(content)\n",
    "    f.close()"
   ]
  },
  {
   "cell_type": "markdown",
   "metadata": {},
   "source": [
    "\n",
    "**read mode**\n",
    "\n"
   ]
  },
  {
   "cell_type": "code",
   "execution_count": 4,
   "metadata": {},
   "outputs": [
    {
     "name": "stdout",
     "output_type": "stream",
     "text": [
      "This content is written in xyz.txt file\n"
     ]
    }
   ],
   "source": [
    "with open(\"xyz.txt\") as r:             # default mode is read mode\n",
    "    content=r.read()\n",
    "    r.close()\n",
    "print(content)    "
   ]
  },
  {
   "cell_type": "code",
   "execution_count": 5,
   "metadata": {},
   "outputs": [
    {
     "name": "stdout",
     "output_type": "stream",
     "text": [
      "This content is written in file.dat file\n"
     ]
    }
   ],
   "source": [
    "with open('file.dat','r') as read:\n",
    "    content=read.read()\n",
    "print(content)    "
   ]
  },
  {
   "cell_type": "code",
   "execution_count": 6,
   "metadata": {},
   "outputs": [],
   "source": [
    "with open(\"file.dat\",'w') as w:\n",
    "    w.write(\"New text\\nis added in file.dat file\")\n",
    "    w.close()\n",
    "    "
   ]
  },
  {
   "cell_type": "code",
   "execution_count": 7,
   "metadata": {},
   "outputs": [
    {
     "name": "stdout",
     "output_type": "stream",
     "text": [
      "New text\n",
      "\n"
     ]
    }
   ],
   "source": [
    "with open('file.dat','r') as r:\n",
    "    text=r.readline()                 # Read only one line \n",
    "    r.close()\n",
    "print(text)    "
   ]
  },
  {
   "cell_type": "code",
   "execution_count": 10,
   "metadata": {},
   "outputs": [
    {
     "name": "stdout",
     "output_type": "stream",
     "text": [
      "is added in file.dat file\n"
     ]
    }
   ],
   "source": [
    "with open('file.dat') as r:\n",
    "    t=r.readline()               # read first line and save the data in t\n",
    "    t=r.readline()               # read second line and save data in t (previous data will be overwrite)\n",
    "print(t)    "
   ]
  },
  {
   "cell_type": "code",
   "execution_count": 12,
   "metadata": {},
   "outputs": [],
   "source": [
    "with open('newFile.txt','w') as w:\n",
    "    w.write(\"Hello\")\n",
    "    w.write(\"Python\")                # In file Hello Pyton is stored in one line i.e HelloPython\n",
    "    w.close()\n",
    "    "
   ]
  },
  {
   "cell_type": "code",
   "execution_count": 14,
   "metadata": {},
   "outputs": [
    {
     "name": "stdout",
     "output_type": "stream",
     "text": [
      "HelloPython\n"
     ]
    }
   ],
   "source": [
    "with open(\"newFile.txt\") as r:\n",
    "    content=r.readline()\n",
    "    r.close()\n",
    "    \n",
    "print(content)    "
   ]
  },
  {
   "cell_type": "markdown",
   "metadata": {},
   "source": [
    "## append mode\n",
    "---"
   ]
  },
  {
   "cell_type": "markdown",
   "metadata": {},
   "source": [
    "- if we open file in 'w' mode then all the previous data will be overwrite\n",
    "- To add more data into an existing data we use append ('a') mode \n"
   ]
  },
  {
   "cell_type": "code",
   "execution_count": 17,
   "metadata": {},
   "outputs": [],
   "source": [
    "with open('abc.txt','a') as a:       # abc.txt file is existing file \n",
    "    a.write(\"\\nMore data\")\n",
    "    a.close()"
   ]
  },
  {
   "cell_type": "code",
   "execution_count": 18,
   "metadata": {},
   "outputs": [],
   "source": [
    "with open('abc.dat','a') as a:      # abc.dat file is not exist, firstly it will be created then data is stored in it \n",
    "    a.write(\"Testing\")\n",
    "    a.close()"
   ]
  },
  {
   "cell_type": "code",
   "execution_count": 19,
   "metadata": {},
   "outputs": [],
   "source": [
    "with open('abc.dat','a') as a:\n",
    "    a.write(\"\\nHello\")\n",
    "    a.close()\n"
   ]
  },
  {
   "cell_type": "code",
   "execution_count": null,
   "metadata": {},
   "outputs": [],
   "source": []
  }
 ],
 "metadata": {
  "kernelspec": {
   "display_name": "Python 3",
   "language": "python",
   "name": "python3"
  },
  "language_info": {
   "codemirror_mode": {
    "name": "ipython",
    "version": 3
   },
   "file_extension": ".py",
   "mimetype": "text/x-python",
   "name": "python",
   "nbconvert_exporter": "python",
   "pygments_lexer": "ipython3",
   "version": "3.7.3"
  }
 },
 "nbformat": 4,
 "nbformat_minor": 2
}
